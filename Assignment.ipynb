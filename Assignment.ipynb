{
  "nbformat": 4,
  "nbformat_minor": 0,
  "metadata": {
    "colab": {
      "provenance": [],
      "toc_visible": true,
      "authorship_tag": "ABX9TyNz2nWgis5VKAD3HLYqmm+h",
      "include_colab_link": true
    },
    "kernelspec": {
      "name": "python3",
      "display_name": "Python 3"
    },
    "language_info": {
      "name": "python"
    }
  },
  "cells": [
    {
      "cell_type": "markdown",
      "metadata": {
        "id": "view-in-github",
        "colab_type": "text"
      },
      "source": [
        "<a href=\"https://colab.research.google.com/github/Kendimuriuki/Class-Assignment/blob/main/Assignment.ipynb\" target=\"_parent\"><img src=\"https://colab.research.google.com/assets/colab-badge.svg\" alt=\"Open In Colab\"/></a>"
      ]
    },
    {
      "cell_type": "markdown",
      "source": [
        "#Question 1.1 Variable Declaration and Type Checking\n"
      ],
      "metadata": {
        "id": "Ih2O3ctCQBZr"
      }
    },
    {
      "cell_type": "code",
      "source": [
        "Age =28\n",
        "Height_metres = 5.54\n",
        "Fav_colour = \"Yellow\"\n",
        "is_student = True\n",
        "#Printing the value and data type of each variable usinf the 'f' string\n",
        "print(f\"Age: {Age}, Type: {type(Age)}\")\n",
        "print(f\"Height: {Height_metres}, Type: {type(Height_metres)}\")\n",
        "print(f\"Favourite Colour: {Fav_colour}, Type: {type(Fav_colour)}\")\n",
        "print(f\"Is a Student: {is_student}, Type: {type(is_student)}\")"
      ],
      "metadata": {
        "id": "1aEYpy_igFOU",
        "colab": {
          "base_uri": "https://localhost:8080/"
        },
        "outputId": "2600ab69-37c5-49a3-ad9d-a5e12d9ab8bf"
      },
      "execution_count": null,
      "outputs": [
        {
          "output_type": "stream",
          "name": "stdout",
          "text": [
            "Age: 28, Type: <class 'int'>\n",
            "Height: 5.54, Type: <class 'float'>\n",
            "Favourite Colour: Yellow, Type: <class 'str'>\n",
            "Is a Student: True, Type: <class 'bool'>\n"
          ]
        }
      ]
    },
    {
      "cell_type": "markdown",
      "source": [
        "##Question 1.2 Type Conversion\n"
      ],
      "metadata": {
        "id": "hOCf0Er1PsLH"
      }
    },
    {
      "cell_type": "markdown",
      "source": [
        "##QUESTION 1.3 BASIC OPERATIONS\n"
      ],
      "metadata": {
        "id": "zrKudLLFRPEI"
      }
    },
    {
      "cell_type": "code",
      "source": [
        "#Addition\n",
        "Num1 = 15\n",
        "Num2 = 7\n",
        "\n",
        "print(f\"Addition: {Num1 + Num2}\")"
      ],
      "metadata": {
        "id": "E7DEG0w-R1qt",
        "colab": {
          "base_uri": "https://localhost:8080/"
        },
        "outputId": "b935f85a-70ee-4630-e0e3-aa2008745a4b"
      },
      "execution_count": null,
      "outputs": [
        {
          "output_type": "stream",
          "name": "stdout",
          "text": [
            "Addition: 22\n"
          ]
        }
      ]
    },
    {
      "cell_type": "code",
      "source": [
        "#Subtraction\n",
        "print(f\"Subtraction: {Num1 - Num2}\")"
      ],
      "metadata": {
        "id": "aGQ1OmVGUM4-",
        "colab": {
          "base_uri": "https://localhost:8080/"
        },
        "outputId": "af715734-57dd-4162-9b7a-86557fd4b7f6"
      },
      "execution_count": null,
      "outputs": [
        {
          "output_type": "stream",
          "name": "stdout",
          "text": [
            "Subtraction: 8\n"
          ]
        }
      ]
    },
    {
      "cell_type": "code",
      "source": [
        "#Division\n",
        "print(f\"Division: {Num1 / Num2}\")"
      ],
      "metadata": {
        "id": "sw_9vVE0UbFX",
        "colab": {
          "base_uri": "https://localhost:8080/"
        },
        "outputId": "221f1a49-90ac-40fc-9fdc-e653eba0ccf6"
      },
      "execution_count": null,
      "outputs": [
        {
          "output_type": "stream",
          "name": "stdout",
          "text": [
            "Division: 2.142857142857143\n"
          ]
        }
      ]
    },
    {
      "cell_type": "code",
      "source": [
        "#floor division\n",
        "print(f\"Floor Division: {Num1 // Num2}\")"
      ],
      "metadata": {
        "id": "kNUgH-l4VJkf",
        "colab": {
          "base_uri": "https://localhost:8080/"
        },
        "outputId": "ba29c05c-b6f8-4dbd-b67d-a38b54b3dd31"
      },
      "execution_count": null,
      "outputs": [
        {
          "output_type": "stream",
          "name": "stdout",
          "text": [
            "Floor Division: 2\n"
          ]
        }
      ]
    },
    {
      "cell_type": "code",
      "source": [
        "first_name = 'Alice'\n",
        "last_name = 'Smith'\n",
        "full_name = first_name + ' ' + last_name\n",
        "print(full_name)"
      ],
      "metadata": {
        "id": "NO-UkHFYVJIK",
        "colab": {
          "base_uri": "https://localhost:8080/"
        },
        "outputId": "655a41a4-f76f-4697-b4eb-d46c0ce5f895"
      },
      "execution_count": null,
      "outputs": [
        {
          "output_type": "stream",
          "name": "stdout",
          "text": [
            "Alice Smith\n"
          ]
        }
      ]
    },
    {
      "cell_type": "markdown",
      "source": [
        "####PART 2 CONDITIONAL STATEMENTS\n",
        "Question 2.1 Positive, Negative or Zero"
      ],
      "metadata": {
        "id": "bWklYsYwXGGr"
      }
    },
    {
      "cell_type": "code",
      "source": [
        "Number = float(input(\"Enter a number: \"))\n",
        "if Number > 0:\n",
        "  print(\"Number is positive\")\n",
        "elif Number < 0:\n",
        "  print(\"Number is negative\")\n",
        "else:\n",
        "  print(\"Number is zero\")"
      ],
      "metadata": {
        "id": "QyZGxlmQXP_e",
        "colab": {
          "base_uri": "https://localhost:8080/"
        },
        "outputId": "2c86cc60-daa5-44dd-a80f-2d29d56cb4a3"
      },
      "execution_count": null,
      "outputs": [
        {
          "output_type": "stream",
          "name": "stdout",
          "text": [
            "Enter a number: 10\n",
            "Number is positive\n"
          ]
        }
      ]
    },
    {
      "cell_type": "markdown",
      "source": [
        "#####Question 2.2 Eligibility for Discount\n",
        "\n"
      ],
      "metadata": {
        "id": "8aupsC5KecRp"
      }
    },
    {
      "cell_type": "code",
      "source": [
        "Purchase_amount = float(input(\"Enter the purchase amount: \"))\n",
        "\n",
        "if Purchase_amount >= 100:\n",
        "   discount = 0.1\n",
        "elif 50 <= Purchase_amount <= 99:\n",
        "    discount = 0.05\n",
        "else:\n",
        "    discount = 0\n",
        "print(f\"Discount: {discount}%\")\n",
        "print(f\"Total Amount: {Purchase_amount - (Purchase_amount * (discount / 100))}\")\n"
      ],
      "metadata": {
        "id": "s3DOOWrDfWz2",
        "colab": {
          "base_uri": "https://localhost:8080/"
        },
        "outputId": "71ea360d-982f-40c8-a783-6bfd84a26de7"
      },
      "execution_count": null,
      "outputs": [
        {
          "output_type": "stream",
          "name": "stdout",
          "text": [
            "Enter the purchase amount: 500\n",
            "Discount: 0.1%\n",
            "Total Amount: 499.5\n"
          ]
        }
      ]
    },
    {
      "cell_type": "markdown",
      "source": [
        "#Question 2.3 Simple Password Check"
      ],
      "metadata": {
        "id": "rzs_jASBz7PI"
      }
    },
    {
      "cell_type": "code",
      "source": [
        "correct_password = \"Python123\"\n",
        "entered_password = input(\"Enter the password: \")\n",
        "\n",
        "if entered_password == correct_password:\n",
        "    print(\"Password is correct\")\n",
        "else:\n",
        "    print(\"Password is incorrect\")"
      ],
      "metadata": {
        "id": "0k_AbqaK0F69",
        "colab": {
          "base_uri": "https://localhost:8080/"
        },
        "outputId": "71719674-64f1-4470-a259-b4ebafa70e78"
      },
      "execution_count": null,
      "outputs": [
        {
          "output_type": "stream",
          "name": "stdout",
          "text": [
            "Enter the password: Kendi321\n",
            "Password is incorrect\n"
          ]
        }
      ]
    },
    {
      "cell_type": "markdown",
      "source": [
        "##Part 3 Data Structures\n",
        "#Question 3.1 Lists\n"
      ],
      "metadata": {
        "id": "uUMN2FvgApwg"
      }
    },
    {
      "cell_type": "code",
      "source": [
        "#Creating fruit list\n",
        "list_of_fruits = ['apple', 'banana', 'orange', 'grape', 'kiwi']\n",
        "print(list_of_fruits)\n"
      ],
      "metadata": {
        "colab": {
          "base_uri": "https://localhost:8080/"
        },
        "id": "nwkOnUKMBLGU",
        "outputId": "1713759a-471e-4dc3-f388-6844c6f94234"
      },
      "execution_count": null,
      "outputs": [
        {
          "output_type": "stream",
          "name": "stdout",
          "text": [
            "['apple', 'banana', 'orange', 'grape', 'kiwi']\n"
          ]
        }
      ]
    },
    {
      "cell_type": "code",
      "source": [
        "#printing the third element\n",
        "print(list_of_fruits[2])"
      ],
      "metadata": {
        "colab": {
          "base_uri": "https://localhost:8080/"
        },
        "id": "KKD8qtlhGbiK",
        "outputId": "40df11f6-5236-4987-e06d-cc165cc3bfe3"
      },
      "execution_count": null,
      "outputs": [
        {
          "output_type": "stream",
          "name": "stdout",
          "text": [
            "orange\n"
          ]
        }
      ]
    },
    {
      "cell_type": "code",
      "source": [
        "#adding a new fruit\n",
        "list_of_fruits.append('tangerine')\n",
        "print(list_of_fruits)"
      ],
      "metadata": {
        "colab": {
          "base_uri": "https://localhost:8080/"
        },
        "id": "OKRzFXuWMDtL",
        "outputId": "1c1147a2-a76c-401f-a35d-6dd5ce6a7a37"
      },
      "execution_count": null,
      "outputs": [
        {
          "output_type": "stream",
          "name": "stdout",
          "text": [
            "['apple', 'banana', 'orange', 'grape', 'kiwi', 'tangerine']\n"
          ]
        }
      ]
    },
    {
      "cell_type": "code",
      "source": [
        "#removing one fruit from the list\n",
        "list_of_fruits.remove('banana')\n",
        "print(list_of_fruits)"
      ],
      "metadata": {
        "colab": {
          "base_uri": "https://localhost:8080/"
        },
        "id": "N3LQCX7tMf8H",
        "outputId": "a5ba0a33-00ec-40e0-e3d7-f75dab7dae7d"
      },
      "execution_count": null,
      "outputs": [
        {
          "output_type": "stream",
          "name": "stdout",
          "text": [
            "['apple', 'orange', 'grape', 'kiwi', 'tangerine']\n"
          ]
        }
      ]
    },
    {
      "cell_type": "code",
      "source": [
        "#modifying the second element to a different fruit\n",
        "list_of_fruits [1] = 'mango'\n",
        "print(list_of_fruits)"
      ],
      "metadata": {
        "colab": {
          "base_uri": "https://localhost:8080/"
        },
        "id": "YhfY05UvMrTE",
        "outputId": "39c49310-f474-49bc-f39b-706280a67f69"
      },
      "execution_count": null,
      "outputs": [
        {
          "output_type": "stream",
          "name": "stdout",
          "text": [
            "['apple', 'mango', 'grape', 'kiwi', 'tangerine']\n"
          ]
        }
      ]
    },
    {
      "cell_type": "code",
      "source": [
        "print(list_of_fruits)"
      ],
      "metadata": {
        "colab": {
          "base_uri": "https://localhost:8080/"
        },
        "id": "e7oEeK6oN9m-",
        "outputId": "220ed204-a5cf-4516-9c1d-4f23e0338d54"
      },
      "execution_count": null,
      "outputs": [
        {
          "output_type": "stream",
          "name": "stdout",
          "text": [
            "['apple', 'mango', 'grape', 'kiwi', 'tangerine']\n"
          ]
        }
      ]
    },
    {
      "cell_type": "code",
      "source": [
        "print('Number of fruits:', len(list_of_fruits))"
      ],
      "metadata": {
        "colab": {
          "base_uri": "https://localhost:8080/"
        },
        "id": "MdNyU5fpOHar",
        "outputId": "8e94100c-c1ec-4df3-c455-17e0af92495a"
      },
      "execution_count": null,
      "outputs": [
        {
          "output_type": "stream",
          "name": "stdout",
          "text": [
            "Number of fruits: 5\n"
          ]
        }
      ]
    },
    {
      "cell_type": "code",
      "source": [
        "#making a file\n",
        "def print_list_with_indices(fruits_list)"
      ],
      "metadata": {
        "id": "9RR8HCM1PyxE"
      },
      "execution_count": null,
      "outputs": []
    },
    {
      "cell_type": "markdown",
      "source": [
        "##Visual representation\n"
      ],
      "metadata": {
        "id": "wpMY3-zeiii9"
      }
    },
    {
      "cell_type": "markdown",
      "source": [
        "####Question 3.2 Tuples"
      ],
      "metadata": {
        "id": "xe7neTfTivqc"
      }
    },
    {
      "cell_type": "code",
      "source": [
        "#Create a tuple called coordinates with three numbers\n",
        "coordinates = (20,30,40)\n",
        "print(coordinates)\n"
      ],
      "metadata": {
        "colab": {
          "base_uri": "https://localhost:8080/"
        },
        "id": "dx_le7PWi0eC",
        "outputId": "e9295296-466a-45b2-8d1d-25caea52a542"
      },
      "execution_count": null,
      "outputs": [
        {
          "output_type": "stream",
          "name": "stdout",
          "text": [
            "(20, 30, 40)\n"
          ]
        }
      ]
    },
    {
      "cell_type": "code",
      "source": [
        "#Modifying the first element\n",
        "coordinates[0] = 10\n",
        "print(coordinates)"
      ],
      "metadata": {
        "colab": {
          "base_uri": "https://localhost:8080/",
          "height": 176
        },
        "id": "qy6TYUSDpJ3F",
        "outputId": "ca596573-ed69-4511-e800-94375e4d4fd6"
      },
      "execution_count": null,
      "outputs": [
        {
          "output_type": "error",
          "ename": "TypeError",
          "evalue": "'tuple' object does not support item assignment",
          "traceback": [
            "\u001b[0;31m---------------------------------------------------------------------------\u001b[0m",
            "\u001b[0;31mTypeError\u001b[0m                                 Traceback (most recent call last)",
            "\u001b[0;32m/tmp/ipython-input-3-2267301491.py\u001b[0m in \u001b[0;36m<cell line: 0>\u001b[0;34m()\u001b[0m\n\u001b[1;32m      1\u001b[0m \u001b[0;31m#Modifying the first element\u001b[0m\u001b[0;34m\u001b[0m\u001b[0;34m\u001b[0m\u001b[0m\n\u001b[0;32m----> 2\u001b[0;31m \u001b[0mcoordinates\u001b[0m\u001b[0;34m[\u001b[0m\u001b[0;36m0\u001b[0m\u001b[0;34m]\u001b[0m \u001b[0;34m=\u001b[0m \u001b[0;36m10\u001b[0m\u001b[0;34m\u001b[0m\u001b[0;34m\u001b[0m\u001b[0m\n\u001b[0m\u001b[1;32m      3\u001b[0m \u001b[0mprint\u001b[0m\u001b[0;34m(\u001b[0m\u001b[0mcoordinates\u001b[0m\u001b[0;34m)\u001b[0m\u001b[0;34m\u001b[0m\u001b[0;34m\u001b[0m\u001b[0m\n",
            "\u001b[0;31mTypeError\u001b[0m: 'tuple' object does not support item assignment"
          ]
        }
      ]
    },
    {
      "cell_type": "code",
      "source": [
        "#it gives an error, because tuples are immutable, once they have been created, they cannot be modified\n"
      ],
      "metadata": {
        "id": "p9K7wxL_stFe"
      },
      "execution_count": null,
      "outputs": []
    },
    {
      "cell_type": "code",
      "source": [
        "#printing the second element of a tuple\n",
        "print(coordinates[1])"
      ],
      "metadata": {
        "colab": {
          "base_uri": "https://localhost:8080/"
        },
        "id": "kRKDtHR0s_Ey",
        "outputId": "395b1594-9463-419e-eb2d-19cc51df305f"
      },
      "execution_count": null,
      "outputs": [
        {
          "output_type": "stream",
          "name": "stdout",
          "text": [
            "30\n"
          ]
        }
      ]
    },
    {
      "cell_type": "markdown",
      "source": [
        "#Question 3.3 Dictionaries"
      ],
      "metadata": {
        "id": "gEE43d_vvcTf"
      }
    },
    {
      "cell_type": "code",
      "source": [
        "#creating a dictionary\n",
        "student_info = {'name': 'John Doe',\n",
        "        'age': 20,\n",
        "        'major': 'Computer Science',\n",
        "       'GPA': 3.8}\n",
        "print(student_info)"
      ],
      "metadata": {
        "colab": {
          "base_uri": "https://localhost:8080/"
        },
        "id": "UOHbP_Ttvgrb",
        "outputId": "a17ff263-1ab5-45e2-aaad-1ea0738c80d9"
      },
      "execution_count": null,
      "outputs": [
        {
          "output_type": "stream",
          "name": "stdout",
          "text": [
            "{'name': 'John Doe', 'age': 20, 'major': 'Computer Science', 'GPA': 3.8}\n"
          ]
        }
      ]
    },
    {
      "cell_type": "code",
      "source": [
        "#Access and print students major\n",
        "print(student_info['major'])"
      ],
      "metadata": {
        "colab": {
          "base_uri": "https://localhost:8080/"
        },
        "id": "BKtl6CcJ4JRb",
        "outputId": "0d8c4541-b0d8-4579-9246-378e0ed49d79"
      },
      "execution_count": null,
      "outputs": [
        {
          "output_type": "stream",
          "name": "stdout",
          "text": [
            "Computer Science\n"
          ]
        }
      ]
    },
    {
      "cell_type": "code",
      "source": [
        "#update students' GPA\n",
        "student_info['GPA'] = 3.9\n",
        "print(student_info)"
      ],
      "metadata": {
        "colab": {
          "base_uri": "https://localhost:8080/"
        },
        "id": "3VQtrHyC4ag6",
        "outputId": "1701408d-503b-416b-e78b-bb8ead799273"
      },
      "execution_count": null,
      "outputs": [
        {
          "output_type": "stream",
          "name": "stdout",
          "text": [
            "{'name': 'John Doe', 'age': 20, 'major': 'Computer Science', 'GPA': 3.9}\n"
          ]
        }
      ]
    },
    {
      "cell_type": "code",
      "source": [
        "#Add a key-value pair\n",
        "student_info['university'] = 'Tech University'\n",
        "print(student_info)\n"
      ],
      "metadata": {
        "colab": {
          "base_uri": "https://localhost:8080/"
        },
        "id": "UCL_Xu_M5oUH",
        "outputId": "6143f64b-8e6b-4246-a493-bf052d4a8402"
      },
      "execution_count": null,
      "outputs": [
        {
          "output_type": "stream",
          "name": "stdout",
          "text": [
            "{'name': 'John Doe', 'age': 20, 'major': 'Computer Science', 'GPA': 3.9, 'university': 'Tech University'}\n"
          ]
        }
      ]
    },
    {
      "cell_type": "code",
      "source": [
        "#print all keys in the dictionary\n",
        "print(student_info.keys())"
      ],
      "metadata": {
        "colab": {
          "base_uri": "https://localhost:8080/"
        },
        "id": "zatUjhpP6Xgw",
        "outputId": "2a1315e1-50f3-4013-c073-bffba7590011"
      },
      "execution_count": null,
      "outputs": [
        {
          "output_type": "stream",
          "name": "stdout",
          "text": [
            "dict_keys(['name', 'age', 'major', 'GPA', 'university'])\n"
          ]
        }
      ]
    },
    {
      "cell_type": "code",
      "source": [
        "#print all values in the dictionary\n",
        "print(student_info.values())"
      ],
      "metadata": {
        "colab": {
          "base_uri": "https://localhost:8080/"
        },
        "id": "pxRqiSVy6drj",
        "outputId": "05e94e1d-5351-4de9-ee7a-38e2515ab28b"
      },
      "execution_count": null,
      "outputs": [
        {
          "output_type": "stream",
          "name": "stdout",
          "text": [
            "dict_values(['John Doe', 20, 'Computer Science', 3.9, 'Tech University'])\n"
          ]
        }
      ]
    },
    {
      "cell_type": "markdown",
      "source": [
        "##Question 3.4 Sets"
      ],
      "metadata": {
        "id": "52fs4S-i7Az8"
      }
    },
    {
      "cell_type": "code",
      "source": [
        "#Creating a set with duplicate numbers\n",
        "unique_numbers = {1, 2, 2, 3, 4, 4, 5}\n",
        "print(unique_numbers)\n",
        "\n",
        "\n"
      ],
      "metadata": {
        "colab": {
          "base_uri": "https://localhost:8080/"
        },
        "id": "vXQpj1vj7Gyj",
        "outputId": "bd045371-89fc-42d8-d57b-290ed406bd2a"
      },
      "execution_count": null,
      "outputs": [
        {
          "output_type": "stream",
          "name": "stdout",
          "text": [
            "{1, 2, 3, 4, 5}\n"
          ]
        }
      ]
    },
    {
      "cell_type": "code",
      "source": [
        "# it returns unique values only"
      ],
      "metadata": {
        "id": "kLBKgaVu-qM-"
      },
      "execution_count": null,
      "outputs": []
    },
    {
      "cell_type": "code",
      "source": [
        "#adding a number to the set\n",
        "unique_numbers.add(6)\n",
        "print(unique_numbers)"
      ],
      "metadata": {
        "colab": {
          "base_uri": "https://localhost:8080/"
        },
        "id": "-6l-9IhJ-uSS",
        "outputId": "74b7cd33-3dc8-4337-aea5-827373a29463"
      },
      "execution_count": null,
      "outputs": [
        {
          "output_type": "stream",
          "name": "stdout",
          "text": [
            "{1, 2, 3, 4, 5, 6}\n"
          ]
        }
      ]
    },
    {
      "cell_type": "code",
      "source": [
        "#removing a number from the set\n",
        "unique_numbers.remove(3)\n",
        "print(unique_numbers)"
      ],
      "metadata": {
        "colab": {
          "base_uri": "https://localhost:8080/"
        },
        "id": "K4uYrMLT_euS",
        "outputId": "23859b02-fec4-4bed-8658-edcd0d2667e4"
      },
      "execution_count": null,
      "outputs": [
        {
          "output_type": "stream",
          "name": "stdout",
          "text": [
            "{1, 2, 4, 5, 6}\n"
          ]
        }
      ]
    },
    {
      "cell_type": "code",
      "source": [
        "#creating another set of numbers\n",
        "other_numbers = {3, 4, 5, 6}\n",
        "print(other_numbers)\n",
        "\n",
        "\n"
      ],
      "metadata": {
        "colab": {
          "base_uri": "https://localhost:8080/"
        },
        "id": "EZdr_7LT_swC",
        "outputId": "c3374378-7873-410c-a7ec-575ee4aef205"
      },
      "execution_count": null,
      "outputs": [
        {
          "output_type": "stream",
          "name": "stdout",
          "text": [
            "{3, 4, 5, 6}\n"
          ]
        }
      ]
    },
    {
      "cell_type": "code",
      "source": [
        "#joining unique_numbers and other_numbers\n",
        "joined_set = unique_numbers.union(other_numbers)\n",
        "print(joined_set)"
      ],
      "metadata": {
        "colab": {
          "base_uri": "https://localhost:8080/"
        },
        "id": "nJ2MEELZCxdr",
        "outputId": "cfec2ae7-4aa6-449d-ebf8-6f624cf921f0"
      },
      "execution_count": null,
      "outputs": [
        {
          "output_type": "stream",
          "name": "stdout",
          "text": [
            "{1, 2, 3, 4, 5, 6}\n"
          ]
        }
      ]
    },
    {
      "cell_type": "code",
      "source": [
        "#intersection of numbers\n",
        "intersection_set = unique_numbers.intersection(other_numbers)\n",
        "print(intersection_set)"
      ],
      "metadata": {
        "colab": {
          "base_uri": "https://localhost:8080/"
        },
        "id": "aZvczTOtC-Ek",
        "outputId": "1c9b18b0-2b6c-4446-b700-e9ece720916b"
      },
      "execution_count": null,
      "outputs": [
        {
          "output_type": "stream",
          "name": "stdout",
          "text": [
            "{4, 5, 6}\n"
          ]
        }
      ]
    },
    {
      "cell_type": "code",
      "source": [
        "#creating a venn diagram\n",
        "print(unique_numbers)\n",
        "print(other_numbers)\n",
        "print(joined_set)\n",
        "print(intersection_set)"
      ],
      "metadata": {
        "colab": {
          "base_uri": "https://localhost:8080/"
        },
        "id": "2FKMwOesDJV1",
        "outputId": "afab410c-20c6-4abc-b057-dda2a178725e"
      },
      "execution_count": null,
      "outputs": [
        {
          "output_type": "stream",
          "name": "stdout",
          "text": [
            "{1, 2, 4, 5, 6}\n",
            "{3, 4, 5, 6}\n",
            "{1, 2, 3, 4, 5, 6}\n",
            "{4, 5, 6}\n"
          ]
        }
      ]
    }
  ]
}