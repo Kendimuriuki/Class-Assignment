{
 "cells": [
  {
   "cell_type": "code",
   "execution_count": 3,
   "id": "8cc9a605",
   "metadata": {},
   "outputs": [],
   "source": [
    "import pandas as pd"
   ]
  },
  {
   "cell_type": "markdown",
   "id": "1d7c0de6",
   "metadata": {},
   "source": [
    "# Car Price Analysis - Guided Assignment\n",
    "\n",
    "**Student Name:** _[Doreen Kendi]_\n",
    "\n",
    "**Date:** _[03/07/2025]_\n",
    "\n",
    "---\n",
    "\n",
    "## Assignment Overview\n",
    "\n",
    "**Business Scenario**: You are a data analyst working for a car dealership chain. The management wants to understand market trends, identify profitable segments, and optimize their inventory strategy.\n",
    "\n",
    "**Your Task**: Apply pandas data manipulation techniques to analyze car pricing data and provide business recommendations.\n",
    "\n",
    "**Learning Objectives**:\n",
    "- Apply index and column operations\n",
    "- Use loc and iloc for data selection\n",
    "- Implement boolean masking and filtering\n",
    "- Perform sorting and ranking operations\n",
    "- Handle missing values appropriately\n",
    "- Create and transform columns\n",
    "- Conduct group-by aggregations\n",
    "- Build pivot tables for analysis\n",
    "- Generate business insights from data\n",
    "\n",
    "**Dataset**: Car prices dataset with 558,837 records and 16 features\n",
    "\n",
    "---\n",
    "\n",
    "## Instructions\n",
    "1. Complete each section by writing code in the provided cells\n",
    "2. Follow the step-by-step guidance\n",
    "3. Answer the questions in markdown cells\n",
    "4. Run all cells to ensure your code works\n",
    "5. Provide business insights based on your analysis"
   ]
  },
  {
   "cell_type": "markdown",
   "id": "b01962cd",
   "metadata": {},
   "source": [
    "## Part 1: Data Loading and Initial Exploration (10 points)\n",
    "\n",
    "### Task 1.1: Import Libraries\n",
    "Import the necessary libraries for data analysis."
   ]
  },
  {
   "cell_type": "code",
   "execution_count": 4,
   "id": "504d0b9a",
   "metadata": {},
   "outputs": [],
   "source": [
    "# TODO: Import pandas, numpy, and warnings\n",
    "# Hint: Use standard aliases (pd, np)\n",
    "# TODO: Filter warnings to keep output clean\n",
    "\n",
    "# Your code here:\n",
    "import pandas as pd\n",
    "import numpy as np\n",
    "import warnings"
   ]
  },
  {
   "cell_type": "markdown",
   "id": "f02d0729",
   "metadata": {},
   "source": [
    "### Task 1.2: Load the Dataset\n",
    "Load the car prices dataset and display basic information."
   ]
  },
  {
   "cell_type": "code",
   "execution_count": 5,
   "id": "0181d4a6",
   "metadata": {},
   "outputs": [
    {
     "name": "stdout",
     "output_type": "stream",
     "text": [
      "Dataset shape: (558837, 16)\n"
     ]
    }
   ],
   "source": [
    "# TODO: Load the 'car_prices.csv' dataset\n",
    "# TODO: Print the dataset shape\n",
    "# TODO: Display the first 5 rows\n",
    "\n",
    "# Your code here:\n",
    "car_prices = pd.read_csv(r\"C:\\Users\\muriu\\OneDrive\\Desktop\\DS ASSIGNMENTS\\car_prices.csv\")\n",
    "car_prices.shape\n",
    "car_prices.head(5)\n",
    "print(f\"Dataset shape: {car_prices.shape}\")\n"
   ]
  },
  {
   "cell_type": "markdown",
   "id": "2ea9ebfc",
   "metadata": {},
   "source": [
    "**Question 1.1**: What is the shape of the dataset? How many cars and features are there?\n",
    "\n",
    "**Answer**: _[558837,16]_"
   ]
  },
  {
   "cell_type": "markdown",
   "id": "2f4218cb",
   "metadata": {},
   "source": [
    "## Part 2: Index and Column Operations (15 points)\n",
    "\n",
    "### Task 2.1: Examine and Clean Column Names\n",
    "Display the column names and clean them for consistency."
   ]
  },
  {
   "cell_type": "code",
   "execution_count": 6,
   "id": "e712c36c",
   "metadata": {},
   "outputs": [
    {
     "name": "stdout",
     "output_type": "stream",
     "text": [
      "Original columns:\n",
      "['year', 'make', 'model', 'trim', 'body', 'transmission', 'vin', 'state', 'condition', 'odometer', 'color', 'interior', 'seller', 'mmr', 'sellingprice', 'saledate']\n",
      "Cleaned columns:\n",
      "['year', 'make', 'model', 'trim', 'body', 'transmission', 'vin', 'state', 'condition', 'odometer', 'color', 'interior', 'seller', 'mmr', 'sellingprice', 'saledate']\n"
     ]
    }
   ],
   "source": [
    "# TODO: Print original column names\n",
    "# TODO: Clean column names (remove spaces, convert to lowercase)\n",
    "# TODO: Print cleaned column names\n",
    "\n",
    "# Your code here:\n",
    "print(\"Original columns:\")\n",
    "print(car_prices.columns.tolist())\n",
    "car_prices.columns= car_prices.columns.str.strip().str.replace(' ', '_')\n",
    "print(\"Cleaned columns:\")\n",
    "print(car_prices.columns.tolist())"
   ]
  },
  {
   "cell_type": "markdown",
   "id": "a2adfb95",
   "metadata": {},
   "source": [
    "### Task 2.2: Data Type Exploration\n",
    "Use the `.info()` method to understand the data types and missing values."
   ]
  },
  {
   "cell_type": "code",
   "execution_count": 7,
   "id": "02f99c52",
   "metadata": {},
   "outputs": [
    {
     "name": "stdout",
     "output_type": "stream",
     "text": [
      "<class 'pandas.core.frame.DataFrame'>\n",
      "RangeIndex: 558837 entries, 0 to 558836\n",
      "Data columns (total 16 columns):\n",
      " #   Column        Non-Null Count   Dtype  \n",
      "---  ------        --------------   -----  \n",
      " 0   year          558837 non-null  int64  \n",
      " 1   make          548536 non-null  object \n",
      " 2   model         548438 non-null  object \n",
      " 3   trim          548186 non-null  object \n",
      " 4   body          545642 non-null  object \n",
      " 5   transmission  493485 non-null  object \n",
      " 6   vin           558833 non-null  object \n",
      " 7   state         558837 non-null  object \n",
      " 8   condition     547017 non-null  float64\n",
      " 9   odometer      558743 non-null  float64\n",
      " 10  color         558088 non-null  object \n",
      " 11  interior      558088 non-null  object \n",
      " 12  seller        558837 non-null  object \n",
      " 13  mmr           558799 non-null  float64\n",
      " 14  sellingprice  558825 non-null  float64\n",
      " 15  saledate      558825 non-null  object \n",
      "dtypes: float64(4), int64(1), object(11)\n",
      "memory usage: 68.2+ MB\n"
     ]
    },
    {
     "data": {
      "text/html": [
       "<div>\n",
       "<style scoped>\n",
       "    .dataframe tbody tr th:only-of-type {\n",
       "        vertical-align: middle;\n",
       "    }\n",
       "\n",
       "    .dataframe tbody tr th {\n",
       "        vertical-align: top;\n",
       "    }\n",
       "\n",
       "    .dataframe thead th {\n",
       "        text-align: right;\n",
       "    }\n",
       "</style>\n",
       "<table border=\"1\" class=\"dataframe\">\n",
       "  <thead>\n",
       "    <tr style=\"text-align: right;\">\n",
       "      <th></th>\n",
       "      <th>year</th>\n",
       "      <th>make</th>\n",
       "      <th>model</th>\n",
       "      <th>trim</th>\n",
       "      <th>body</th>\n",
       "      <th>transmission</th>\n",
       "      <th>vin</th>\n",
       "      <th>state</th>\n",
       "      <th>condition</th>\n",
       "      <th>odometer</th>\n",
       "      <th>color</th>\n",
       "      <th>interior</th>\n",
       "      <th>seller</th>\n",
       "      <th>mmr</th>\n",
       "      <th>sellingprice</th>\n",
       "      <th>saledate</th>\n",
       "    </tr>\n",
       "  </thead>\n",
       "  <tbody>\n",
       "    <tr>\n",
       "      <th>0</th>\n",
       "      <td>2015</td>\n",
       "      <td>Kia</td>\n",
       "      <td>Sorento</td>\n",
       "      <td>LX</td>\n",
       "      <td>SUV</td>\n",
       "      <td>automatic</td>\n",
       "      <td>5xyktca69fg566472</td>\n",
       "      <td>ca</td>\n",
       "      <td>5.0</td>\n",
       "      <td>16639.0</td>\n",
       "      <td>white</td>\n",
       "      <td>black</td>\n",
       "      <td>kia motors america  inc</td>\n",
       "      <td>20500.0</td>\n",
       "      <td>21500.0</td>\n",
       "      <td>Tue Dec 16 2014 12:30:00 GMT-0800 (PST)</td>\n",
       "    </tr>\n",
       "    <tr>\n",
       "      <th>1</th>\n",
       "      <td>2015</td>\n",
       "      <td>Kia</td>\n",
       "      <td>Sorento</td>\n",
       "      <td>LX</td>\n",
       "      <td>SUV</td>\n",
       "      <td>automatic</td>\n",
       "      <td>5xyktca69fg561319</td>\n",
       "      <td>ca</td>\n",
       "      <td>5.0</td>\n",
       "      <td>9393.0</td>\n",
       "      <td>white</td>\n",
       "      <td>beige</td>\n",
       "      <td>kia motors america  inc</td>\n",
       "      <td>20800.0</td>\n",
       "      <td>21500.0</td>\n",
       "      <td>Tue Dec 16 2014 12:30:00 GMT-0800 (PST)</td>\n",
       "    </tr>\n",
       "    <tr>\n",
       "      <th>2</th>\n",
       "      <td>2014</td>\n",
       "      <td>BMW</td>\n",
       "      <td>3 Series</td>\n",
       "      <td>328i SULEV</td>\n",
       "      <td>Sedan</td>\n",
       "      <td>automatic</td>\n",
       "      <td>wba3c1c51ek116351</td>\n",
       "      <td>ca</td>\n",
       "      <td>45.0</td>\n",
       "      <td>1331.0</td>\n",
       "      <td>gray</td>\n",
       "      <td>black</td>\n",
       "      <td>financial services remarketing (lease)</td>\n",
       "      <td>31900.0</td>\n",
       "      <td>30000.0</td>\n",
       "      <td>Thu Jan 15 2015 04:30:00 GMT-0800 (PST)</td>\n",
       "    </tr>\n",
       "  </tbody>\n",
       "</table>\n",
       "</div>"
      ],
      "text/plain": [
       "   year make     model        trim   body transmission                vin  \\\n",
       "0  2015  Kia   Sorento          LX    SUV    automatic  5xyktca69fg566472   \n",
       "1  2015  Kia   Sorento          LX    SUV    automatic  5xyktca69fg561319   \n",
       "2  2014  BMW  3 Series  328i SULEV  Sedan    automatic  wba3c1c51ek116351   \n",
       "\n",
       "  state  condition  odometer  color interior  \\\n",
       "0    ca        5.0   16639.0  white    black   \n",
       "1    ca        5.0    9393.0  white    beige   \n",
       "2    ca       45.0    1331.0   gray    black   \n",
       "\n",
       "                                   seller      mmr  sellingprice  \\\n",
       "0                 kia motors america  inc  20500.0       21500.0   \n",
       "1                 kia motors america  inc  20800.0       21500.0   \n",
       "2  financial services remarketing (lease)  31900.0       30000.0   \n",
       "\n",
       "                                  saledate  \n",
       "0  Tue Dec 16 2014 12:30:00 GMT-0800 (PST)  \n",
       "1  Tue Dec 16 2014 12:30:00 GMT-0800 (PST)  \n",
       "2  Thu Jan 15 2015 04:30:00 GMT-0800 (PST)  "
      ]
     },
     "execution_count": 7,
     "metadata": {},
     "output_type": "execute_result"
    }
   ],
   "source": [
    "# TODO: Display dataset info using .info()\n",
    "# TODO: Display the first 3 rows using .head(3)\n",
    "\n",
    "# Your code here:\n",
    "car_prices.info()\n",
    "car_prices.isnull().sum()\n",
    "car_prices.head(3)"
   ]
  },
  {
   "cell_type": "markdown",
   "id": "8303efd4",
   "metadata": {},
   "source": [
    "**Question 2.1**: Which column represents the selling price of cars? What data type is it?\n",
    "\n",
    "**Answer**: _[sellingprice, float]_"
   ]
  },
  {
   "cell_type": "markdown",
   "id": "2fe54b0e",
   "metadata": {},
   "source": [
    "## Part 3: Data Selection with Loc and Iloc (15 points)\n",
    "\n",
    "### Task 3.1: Using Loc for Label-based Selection\n",
    "Practice selecting data using row and column labels."
   ]
  },
  {
   "cell_type": "code",
   "execution_count": 8,
   "id": "3d2bc717",
   "metadata": {},
   "outputs": [
    {
     "data": {
      "text/html": [
       "<div>\n",
       "<style scoped>\n",
       "    .dataframe tbody tr th:only-of-type {\n",
       "        vertical-align: middle;\n",
       "    }\n",
       "\n",
       "    .dataframe tbody tr th {\n",
       "        vertical-align: top;\n",
       "    }\n",
       "\n",
       "    .dataframe thead th {\n",
       "        text-align: right;\n",
       "    }\n",
       "</style>\n",
       "<table border=\"1\" class=\"dataframe\">\n",
       "  <thead>\n",
       "    <tr style=\"text-align: right;\">\n",
       "      <th></th>\n",
       "      <th>make</th>\n",
       "      <th>model</th>\n",
       "      <th>year</th>\n",
       "      <th>sellingprice</th>\n",
       "    </tr>\n",
       "  </thead>\n",
       "  <tbody>\n",
       "    <tr>\n",
       "      <th>0</th>\n",
       "      <td>Kia</td>\n",
       "      <td>Sorento</td>\n",
       "      <td>2015</td>\n",
       "      <td>21500.0</td>\n",
       "    </tr>\n",
       "    <tr>\n",
       "      <th>1</th>\n",
       "      <td>Kia</td>\n",
       "      <td>Sorento</td>\n",
       "      <td>2015</td>\n",
       "      <td>21500.0</td>\n",
       "    </tr>\n",
       "    <tr>\n",
       "      <th>2</th>\n",
       "      <td>BMW</td>\n",
       "      <td>3 Series</td>\n",
       "      <td>2014</td>\n",
       "      <td>30000.0</td>\n",
       "    </tr>\n",
       "    <tr>\n",
       "      <th>3</th>\n",
       "      <td>Volvo</td>\n",
       "      <td>S60</td>\n",
       "      <td>2015</td>\n",
       "      <td>27750.0</td>\n",
       "    </tr>\n",
       "    <tr>\n",
       "      <th>4</th>\n",
       "      <td>BMW</td>\n",
       "      <td>6 Series Gran Coupe</td>\n",
       "      <td>2014</td>\n",
       "      <td>67000.0</td>\n",
       "    </tr>\n",
       "    <tr>\n",
       "      <th>5</th>\n",
       "      <td>Nissan</td>\n",
       "      <td>Altima</td>\n",
       "      <td>2015</td>\n",
       "      <td>10900.0</td>\n",
       "    </tr>\n",
       "    <tr>\n",
       "      <th>6</th>\n",
       "      <td>BMW</td>\n",
       "      <td>M5</td>\n",
       "      <td>2014</td>\n",
       "      <td>65000.0</td>\n",
       "    </tr>\n",
       "    <tr>\n",
       "      <th>7</th>\n",
       "      <td>Chevrolet</td>\n",
       "      <td>Cruze</td>\n",
       "      <td>2014</td>\n",
       "      <td>9800.0</td>\n",
       "    </tr>\n",
       "    <tr>\n",
       "      <th>8</th>\n",
       "      <td>Audi</td>\n",
       "      <td>A4</td>\n",
       "      <td>2014</td>\n",
       "      <td>32250.0</td>\n",
       "    </tr>\n",
       "    <tr>\n",
       "      <th>9</th>\n",
       "      <td>Chevrolet</td>\n",
       "      <td>Camaro</td>\n",
       "      <td>2014</td>\n",
       "      <td>17500.0</td>\n",
       "    </tr>\n",
       "  </tbody>\n",
       "</table>\n",
       "</div>"
      ],
      "text/plain": [
       "        make                model  year  sellingprice\n",
       "0        Kia              Sorento  2015       21500.0\n",
       "1        Kia              Sorento  2015       21500.0\n",
       "2        BMW             3 Series  2014       30000.0\n",
       "3      Volvo                  S60  2015       27750.0\n",
       "4        BMW  6 Series Gran Coupe  2014       67000.0\n",
       "5     Nissan               Altima  2015       10900.0\n",
       "6        BMW                   M5  2014       65000.0\n",
       "7  Chevrolet                Cruze  2014        9800.0\n",
       "8       Audi                   A4  2014       32250.0\n",
       "9  Chevrolet               Camaro  2014       17500.0"
      ]
     },
     "execution_count": 8,
     "metadata": {},
     "output_type": "execute_result"
    }
   ],
   "source": [
    "# TODO: Select first 10 rows and columns 'make', 'model', 'year', 'sellingprice'\n",
    "# Use .loc for this selection\n",
    "\n",
    "# Your code here:\n",
    "car_prices.loc[:9, ['make','model','year','sellingprice']]"
   ]
  },
  {
   "cell_type": "markdown",
   "id": "742eb3b1",
   "metadata": {},
   "source": [
    "### Task 3.2: Using Iloc for Position-based Selection\n",
    "Practice selecting data using integer positions."
   ]
  },
  {
   "cell_type": "code",
   "execution_count": 9,
   "id": "e8b88d73",
   "metadata": {},
   "outputs": [
    {
     "data": {
      "text/html": [
       "<div>\n",
       "<style scoped>\n",
       "    .dataframe tbody tr th:only-of-type {\n",
       "        vertical-align: middle;\n",
       "    }\n",
       "\n",
       "    .dataframe tbody tr th {\n",
       "        vertical-align: top;\n",
       "    }\n",
       "\n",
       "    .dataframe thead th {\n",
       "        text-align: right;\n",
       "    }\n",
       "</style>\n",
       "<table border=\"1\" class=\"dataframe\">\n",
       "  <thead>\n",
       "    <tr style=\"text-align: right;\">\n",
       "      <th></th>\n",
       "      <th>year</th>\n",
       "      <th>make</th>\n",
       "      <th>model</th>\n",
       "      <th>trim</th>\n",
       "      <th>body</th>\n",
       "      <th>transmission</th>\n",
       "    </tr>\n",
       "  </thead>\n",
       "  <tbody>\n",
       "    <tr>\n",
       "      <th>0</th>\n",
       "      <td>2015</td>\n",
       "      <td>Kia</td>\n",
       "      <td>Sorento</td>\n",
       "      <td>LX</td>\n",
       "      <td>SUV</td>\n",
       "      <td>automatic</td>\n",
       "    </tr>\n",
       "    <tr>\n",
       "      <th>1</th>\n",
       "      <td>2015</td>\n",
       "      <td>Kia</td>\n",
       "      <td>Sorento</td>\n",
       "      <td>LX</td>\n",
       "      <td>SUV</td>\n",
       "      <td>automatic</td>\n",
       "    </tr>\n",
       "    <tr>\n",
       "      <th>2</th>\n",
       "      <td>2014</td>\n",
       "      <td>BMW</td>\n",
       "      <td>3 Series</td>\n",
       "      <td>328i SULEV</td>\n",
       "      <td>Sedan</td>\n",
       "      <td>automatic</td>\n",
       "    </tr>\n",
       "    <tr>\n",
       "      <th>3</th>\n",
       "      <td>2015</td>\n",
       "      <td>Volvo</td>\n",
       "      <td>S60</td>\n",
       "      <td>T5</td>\n",
       "      <td>Sedan</td>\n",
       "      <td>automatic</td>\n",
       "    </tr>\n",
       "    <tr>\n",
       "      <th>4</th>\n",
       "      <td>2014</td>\n",
       "      <td>BMW</td>\n",
       "      <td>6 Series Gran Coupe</td>\n",
       "      <td>650i</td>\n",
       "      <td>Sedan</td>\n",
       "      <td>automatic</td>\n",
       "    </tr>\n",
       "  </tbody>\n",
       "</table>\n",
       "</div>"
      ],
      "text/plain": [
       "   year   make                model        trim   body transmission\n",
       "0  2015    Kia              Sorento          LX    SUV    automatic\n",
       "1  2015    Kia              Sorento          LX    SUV    automatic\n",
       "2  2014    BMW             3 Series  328i SULEV  Sedan    automatic\n",
       "3  2015  Volvo                  S60          T5  Sedan    automatic\n",
       "4  2014    BMW  6 Series Gran Coupe        650i  Sedan    automatic"
      ]
     },
     "execution_count": 9,
     "metadata": {},
     "output_type": "execute_result"
    }
   ],
   "source": [
    "# TODO: Select first 5 rows and first 6 columns using .iloc\n",
    "# TODO: Display the result\n",
    "\n",
    "# Your code here:\n",
    "car_prices.iloc[0:5,0:6]"
   ]
  },
  {
   "cell_type": "markdown",
   "id": "fa7a1afb",
   "metadata": {},
   "source": [
    "## Part 4: Boolean Masking and Filtering (20 points)\n",
    "\n",
    "### Task 4.1: Explore Categorical Data\n",
    "Examine the unique values in categorical columns."
   ]
  },
  {
   "cell_type": "code",
   "execution_count": 10,
   "id": "da7bedb9",
   "metadata": {},
   "outputs": [
    {
     "name": "stdout",
     "output_type": "stream",
     "text": [
      "Categorical Columns and their unique values:\n",
      "\n",
      "make: 96 unique values\n",
      "Sample values: ['Kia' 'BMW' 'Volvo' 'Nissan' 'Chevrolet' 'Audi' 'Ford' 'Hyundai' 'Buick'\n",
      " 'Cadillac']\n",
      "\n",
      "model: 973 unique values\n",
      "Sample values: ['Sorento' '3 Series' 'S60' '6 Series Gran Coupe' 'Altima' 'M5' 'Cruze'\n",
      " 'A4' 'Camaro' 'A6']\n",
      "\n",
      "trim: 1963 unique values\n",
      "Sample values: ['LX' '328i SULEV' 'T5' '650i' '2.5 S' 'Base' '1LT'\n",
      " '2.0T Premium Plus quattro' 'LT' '3.0T Prestige quattro']\n"
     ]
    }
   ],
   "source": [
    "# TODO: Get all categorical columns (object dtype)\n",
    "# TODO: For the first 3 categorical columns, display:\n",
    "#       - Column name and number of unique values\n",
    "#       - First 10 unique values\n",
    "\n",
    "# Your code here:\n",
    "categorical_columns= car_prices.select_dtypes(include =[\"object\"]).columns\n",
    "print(\"Categorical Columns and their unique values:\")\n",
    "for col in categorical_columns[:3]:\n",
    "  print(f\"\\n{col}: {car_prices[col].nunique()} unique values\")\n",
    "  print(f\"Sample values: {car_prices[col].unique()[:10]}\")\n",
    "\n"
   ]
  },
  {
   "cell_type": "markdown",
   "id": "f46e857f",
   "metadata": {},
   "source": [
    "### Task 4.2: Price-based Filtering\n",
    "Create filters based on price ranges."
   ]
  },
  {
   "cell_type": "code",
   "execution_count": 11,
   "id": "74dd4762",
   "metadata": {},
   "outputs": [
    {
     "name": "stdout",
     "output_type": "stream",
     "text": [
      "Price Statistics:\n",
      "25th percentile: $6,900.00\n",
      "75th percentile: $18,200.00\n",
      "90th percentile: $25,500.00\n",
      "\n",
      "Luxury cars (top 25% by price): 140682 cars\n",
      "\n",
      "budget cars (bottom 25% by price): 140853 cars\n"
     ]
    }
   ],
   "source": [
    "# TODO: Calculate price percentiles (25th, 75th, 90th)\n",
    "# TODO: Print the percentile values with proper formatting\n",
    "# TODO: Create filters for:\n",
    "#       - Budget cars (bottom 25%)\n",
    "#       - Luxury cars (top 25%)\n",
    "# TODO: Print the count of cars in each category\n",
    "\n",
    "# Your code here:\n",
    "price_col = 'sellingprice'\n",
    "price_25th = car_prices[price_col].quantile(0.25)\n",
    "price_75th = car_prices[price_col].quantile(0.75)\n",
    "price_90th = car_prices[price_col].quantile(0.90)\n",
    "print(f\"Price Statistics:\")\n",
    "print(f\"25th percentile: ${price_25th:,.2f}\")\n",
    "print(f\"75th percentile: ${price_75th:,.2f}\")\n",
    "print(f\"90th percentile: ${price_90th:,.2f}\")\n",
    "\n",
    "luxury_cars = car_prices[car_prices[price_col]>=price_75th]\n",
    "print(f\"\\nLuxury cars (top 25% by price): {len(luxury_cars)} cars\")\n",
    "\n",
    "price_25th = car_prices[price_col].quantile(0.25)\n",
    "budget_cars = car_prices[car_prices[price_col] <= price_25th]\n",
    "print(f\"\\nbudget cars (bottom 25% by price): {len(budget_cars)} cars\")\n",
    "\n",
    "\n"
   ]
  },
  {
   "cell_type": "markdown",
   "id": "7a2cd131",
   "metadata": {},
   "source": [
    "### Task 4.3: Complex Filtering\n",
    "Apply multiple conditions to find specific car segments."
   ]
  },
  {
   "cell_type": "code",
   "execution_count": 16,
   "id": "7450cae0",
   "metadata": {},
   "outputs": [
    {
     "name": "stdout",
     "output_type": "stream",
     "text": [
      "\n",
      "Luxury cars (BMW, Mercedes, or Audi): 24566 cars\n",
      "    year  make                model                       trim   body  \\\n",
      "2   2014   BMW             3 Series                 328i SULEV  Sedan   \n",
      "4   2014   BMW  6 Series Gran Coupe                       650i  Sedan   \n",
      "6   2014   BMW                   M5                       Base  Sedan   \n",
      "8   2014  Audi                   A4  2.0T Premium Plus quattro  Sedan   \n",
      "10  2014  Audi                   A6      3.0T Prestige quattro  Sedan   \n",
      "\n",
      "   transmission                vin state  condition  odometer  color interior  \\\n",
      "2     automatic  wba3c1c51ek116351    ca       45.0    1331.0   gray    black   \n",
      "4     automatic  wba6b2c57ed129731    ca       43.0    2641.0   gray    black   \n",
      "6     automatic  wbsfv9c51ed593089    ca       34.0   14943.0  black    black   \n",
      "8     automatic  wauffafl3en030343    ca       42.0    9557.0  white    black   \n",
      "10    automatic  wauhgafc0en062916    ca       48.0   14414.0  black    black   \n",
      "\n",
      "                                    seller      mmr  sellingprice  \\\n",
      "2   financial services remarketing (lease)  31900.0       30000.0   \n",
      "4   financial services remarketing (lease)  66000.0       67000.0   \n",
      "6                    the hertz corporation  69000.0       65000.0   \n",
      "8                       audi mission viejo  32100.0       32250.0   \n",
      "10                       desert auto trade  47300.0       49750.0   \n",
      "\n",
      "                                   saledate  \n",
      "2   Thu Jan 15 2015 04:30:00 GMT-0800 (PST)  \n",
      "4   Thu Dec 18 2014 12:30:00 GMT-0800 (PST)  \n",
      "6   Wed Dec 17 2014 12:30:00 GMT-0800 (PST)  \n",
      "8   Thu Dec 18 2014 12:00:00 GMT-0800 (PST)  \n",
      "10  Tue Dec 16 2014 12:30:00 GMT-0800 (PST)  \n",
      "Luxury cars represent 25.17% of the total dataset.\n"
     ]
    }
   ],
   "source": [
    "# TODO: Find cars that are:\n",
    "#       - Luxury price (top 25%) AND\n",
    "#       - Made by BMW, Mercedes, or Audi\n",
    "# Hint: Use .str.contains() with the 'or' operator (|)\n",
    "# TODO: Display the count and first 5 rows of this filtered data\n",
    "\n",
    "# Your code here:\n",
    "price_75th = car_prices['sellingprice'].quantile(0.75)\n",
    "luxury_cars = car_prices[car_prices['sellingprice'] >= price_75th]\n",
    "luxury_brands = luxury_cars[\n",
    "    luxury_cars['make'].str.lower().str.contains('bmw|mercedes|audi', na=False)\n",
    "]\n",
    "print(f\"\\nLuxury cars (BMW, Mercedes, or Audi): {len(luxury_brands)} cars\")\n",
    "print(luxury_brands.head())\n",
    "total_cars = len(car_prices)\n",
    "luxury_cars_count = len(luxury_cars)\n",
    "luxury_percentage = (luxury_cars_count / total_cars) * 100\n",
    "print(f\"Luxury cars represent {luxury_percentage:.2f}% of the total dataset.\")\n",
    "\n",
    "\n"
   ]
  },
  {
   "cell_type": "markdown",
   "id": "57d9496f",
   "metadata": {},
   "source": [
    "**Question 4.1**: What percentage of the total dataset do luxury cars represent?\n",
    "\n",
    "**Answer**: _[25.17%]_"
   ]
  },
  {
   "cell_type": "markdown",
   "id": "fff2c04d",
   "metadata": {},
   "source": [
    "## Part 5: Sorting and Ranking (15 points)\n",
    "\n",
    "### Task 5.1: Basic Sorting\n",
    "Sort the data to find extreme values."
   ]
  },
  {
   "cell_type": "code",
   "execution_count": 18,
   "id": "6fde5696",
   "metadata": {},
   "outputs": [
    {
     "name": "stdout",
     "output_type": "stream",
     "text": [
      "Missing values analysis:\n",
      "              Missing_Count  Missing_Percentage\n",
      "transmission          65352           11.694287\n",
      "body                  13195            2.361154\n",
      "condition             11820            2.115107\n",
      "trim                  10651            1.905922\n",
      "model                 10399            1.860829\n",
      "make                  10301            1.843292\n",
      "color                   749            0.134028\n",
      "interior                749            0.134028\n",
      "odometer                 94            0.016821\n",
      "mmr                      38            0.006800\n",
      "sellingprice             12            0.002147\n",
      "saledate                 12            0.002147\n",
      "vin                       4            0.000716\n",
      "TOP 10 MOST EXPENSIVE CARS:\n",
      "                 make            model  year  sellingprice\n",
      "344905           Ford           Escape  2014      230000.0\n",
      "548169        Ferrari       458 Italia  2011      183000.0\n",
      "446949  Mercedes-Benz          S-Class  2015      173000.0\n",
      "545523    Rolls-Royce            Ghost  2013      171500.0\n",
      "125095    Rolls-Royce            Ghost  2012      169500.0\n",
      "557570    Rolls-Royce            Ghost  2012      169000.0\n",
      "538347    Rolls-Royce            Ghost  2012      167000.0\n",
      "283534            BMW               i8  2014      165000.0\n",
      "146917            BMW               i8  2014      165000.0\n",
      "299198        Bentley  Continental GTC  2013      163000.0\n",
      "\n",
      "TOP 10 LEAST EXPENSIVE CARS:\n",
      "                 make         model  year  sellingprice\n",
      "48453   Mercedes-Benz       E-Class  2003           1.0\n",
      "293223           Ford  E-Series Van  2014           1.0\n",
      "205309       Chrysler       Sebring  2002         100.0\n",
      "384512           Ford      Freestar  2006         100.0\n",
      "25588       Chevrolet        Malibu  2003         100.0\n",
      "241038     Mitsubishi        Galant  1997         100.0\n",
      "421787          Dodge       Durango  2002         100.0\n",
      "196184        Pontiac       Montana  2004         100.0\n",
      "423599            BMW      3 Series  1995         100.0\n",
      "443651        Hyundai        Sonata  2005         100.0\n"
     ]
    }
   ],
   "source": [
    "# TODO: Create a clean dataset by removing rows with missing values\n",
    "# TODO: Sort by 'sellingprice' (descending) to find most expensive cars\n",
    "# TODO: Display top 10 most expensive cars with columns: make, model, year, sellingprice\n",
    "# TODO: Sort by 'sellingprice' (ascending) to find least expensive cars\n",
    "# TODO: Display top 10 least expensive cars\n",
    "\n",
    "# Your code here:\n",
    "print(\"Missing values analysis:\")\n",
    "missing_data = car_prices.isnull().sum().sort_values(ascending=False)\n",
    "missing_percentage = (car_prices.isnull().sum() / len(car_prices) * 100).sort_values(ascending=False)\n",
    "\n",
    "missing_summary = pd.DataFrame({\n",
    "    'Missing_Count': missing_data,\n",
    "    'Missing_Percentage': missing_percentage\n",
    "})\n",
    "\n",
    "print(missing_summary[missing_summary['Missing_Count'] > 0])\n",
    "df_analysis = car_prices.dropna().copy()\n",
    "price_col = 'sellingprice'\n",
    "most_expensive = df_analysis.sort_values(by=price_col, ascending=False).head(10)\n",
    "least_expensive = df_analysis.sort_values(by=price_col, ascending=True).head(10)\n",
    "print(\"TOP 10 MOST EXPENSIVE CARS:\")\n",
    "display_cols = [col for col in ['make', 'model', 'year', price_col] if col in df_analysis.columns]\n",
    "print(most_expensive[display_cols])\n",
    "\n",
    "print(\"\\nTOP 10 LEAST EXPENSIVE CARS:\")\n",
    "print(least_expensive[display_cols])"
   ]
  },
  {
   "cell_type": "markdown",
   "id": "8605ad0e",
   "metadata": {},
   "source": [
    "### Task 5.2: Multi-column Sorting and Ranking\n",
    "Perform more complex sorting operations."
   ]
  },
  {
   "cell_type": "code",
   "execution_count": 22,
   "id": "422c6220",
   "metadata": {},
   "outputs": [
    {
     "name": "stdout",
     "output_type": "stream",
     "text": [
      "Cars sorted by Make (A-Z) and Price (High to Low):\n",
      "         make model  sellingprice\n",
      "282957  Acura   MDX       47000.0\n",
      "341817  Acura   MDX       46500.0\n",
      "61333   Acura   MDX       43800.0\n",
      "69274   Acura   MDX       43800.0\n",
      "6464    Acura   MDX       43250.0\n",
      "50607   Acura   MDX       43250.0\n",
      "107706  Acura   MDX       43250.0\n",
      "41571   Acura   MDX       43000.0\n",
      "369781  Acura   MDX       42400.0\n",
      "69270   Acura   MDX       42100.0\n",
      "78806   Acura   MDX       42000.0\n",
      "188449  Acura   MDX       42000.0\n",
      "107715  Acura   MDX       41750.0\n",
      "240519  Acura   MDX       41750.0\n",
      "503908  Acura   MDX       41750.0\n",
      "\n",
      "Price rankings added:\n",
      "Price range: $1.00 to $230,000.00\n",
      "    make                model  sellingprice  price_rank  price_percentile\n",
      "0    Kia              Sorento       21500.0      1033.0          0.832391\n",
      "1    Kia              Sorento       21500.0      1033.0          0.832391\n",
      "2    BMW             3 Series       30000.0       779.0          0.946915\n",
      "3  Volvo                  S60       27750.0       838.0          0.927298\n",
      "4    BMW  6 Series Gran Coupe       67000.0       250.0          0.998190\n"
     ]
    }
   ],
   "source": [
    "# TODO: Sort data by 'make' (A-Z) and then by 'sellingprice' (high to low)\n",
    "# TODO: Display first 15 rows with columns: make, model, sellingprice\n",
    "# TODO: Add a 'price_rank' column using .rank() method\n",
    "# TODO: Add a 'price_percentile' column using .rank(pct=True)\n",
    "# TODO: Display the first 5 rows with ranking columns\n",
    "\n",
    "# Your code here:\n",
    "if 'make' in df_analysis.columns:\n",
    "    sorted_cars = df_analysis.sort_values(by=['make', price_col], ascending=[True, False])\n",
    "    \n",
    "    print(\"Cars sorted by Make (A-Z) and Price (High to Low):\")\n",
    "    print(sorted_cars[['make', 'model', price_col]].head(15))\n",
    "    df_analysis['price_rank'] = df_analysis[price_col].rank(method='dense', ascending=False)\n",
    "df_analysis['price_percentile'] = df_analysis[price_col].rank(pct=True)\n",
    "\n",
    "print(\"\\nPrice rankings added:\")\n",
    "ranking_cols = [col for col in ['make', 'model', price_col, 'price_rank', 'price_percentile'] if col in df_analysis.columns]\n",
    "min_price = car_prices['sellingprice'].min()\n",
    "max_price = car_prices['sellingprice'].max()\n",
    "\n",
    "print(f\"Price range: ${min_price:,.2f} to ${max_price:,.2f}\")\n",
    "print(df_analysis[ranking_cols].head())"
   ]
  },
  {
   "cell_type": "markdown",
   "id": "3cc463ec",
   "metadata": {},
   "source": [
    "**Question 5.1**: What is the price range (min to max) of the cars in the dataset?\n",
    "\n",
    "**Answer**: _[$1.00 to $230,000.00]_"
   ]
  },
  {
   "cell_type": "markdown",
   "id": "4bdd3f86",
   "metadata": {},
   "source": [
    "## Part 6: Missing Values Analysis (10 points)\n",
    "\n",
    "### Task 6.1: Identify Missing Values\n",
    "Analyze the pattern of missing values in the dataset."
   ]
  },
  {
   "cell_type": "code",
   "execution_count": 24,
   "id": "b1c0f5ed",
   "metadata": {},
   "outputs": [
    {
     "name": "stdout",
     "output_type": "stream",
     "text": [
      "Missing values analysis:\n",
      "              Missing_Count  Missing_Percentage\n",
      "transmission          65352           11.694287\n",
      "body                  13195            2.361154\n",
      "condition             11820            2.115107\n",
      "trim                  10651            1.905922\n",
      "model                 10399            1.860829\n",
      "make                  10301            1.843292\n",
      "color                   749            0.134028\n",
      "interior                749            0.134028\n",
      "odometer                 94            0.016821\n",
      "mmr                      38            0.006800\n",
      "sellingprice             12            0.002147\n",
      "saledate                 12            0.002147\n",
      "vin                       4            0.000716\n"
     ]
    }
   ],
   "source": [
    "# TODO: Calculate missing values count for each column\n",
    "# TODO: Calculate missing values percentage for each column\n",
    "# TODO: Create a summary DataFrame with columns: 'Missing_Count', 'Missing_Percentage'\n",
    "# TODO: Display only columns that have missing values\n",
    "\n",
    "# Your code here:\n",
    "print(\"Missing values analysis:\")\n",
    "missing_data = car_prices.isnull().sum().sort_values(ascending=False)\n",
    "missing_percentage = (car_prices.isnull().sum() / len(car_prices) * 100).sort_values(ascending=False)\n",
    "\n",
    "missing_summary = pd.DataFrame({\n",
    "    'Missing_Count': missing_data,\n",
    "    'Missing_Percentage': missing_percentage\n",
    "})\n",
    "\n",
    "print(missing_summary[missing_summary['Missing_Count'] > 0])\n"
   ]
  },
  {
   "cell_type": "markdown",
   "id": "58ec53df",
   "metadata": {},
   "source": [
    "**Question 6.1**: Which columns have the most missing values? What might be the business reason for this?\n",
    "\n",
    "**Answer**: _[transmission]_"
   ]
  },
  {
   "cell_type": "markdown",
   "id": "ffed00c5",
   "metadata": {},
   "source": [
    "## Part 7: Creating and Transforming Columns (20 points)\n",
    "\n",
    "### Task 7.1: Create Price Categories\n",
    "Segment cars into price categories for business analysis."
   ]
  },
  {
   "cell_type": "code",
   "execution_count": 27,
   "id": "a9e92daa",
   "metadata": {},
   "outputs": [
    {
     "name": "stdout",
     "output_type": "stream",
     "text": [
      "Mid-Range    286579\n",
      "Budget       212258\n",
      "Premium       56450\n",
      "Luxury         3538\n",
      "Unknown          12\n",
      "Name: price_category, dtype: int64\n"
     ]
    }
   ],
   "source": [
    "# TODO: Create a function to categorize prices:\n",
    "#       - Budget: < $10,000\n",
    "#       - Mid-Range: $10,000 - $24,999\n",
    "#       - Premium: $25,000 - $49,999\n",
    "#       - Luxury: $50,000+\n",
    "#       - Unknown: for missing values\n",
    "# TODO: Apply this function to create 'price_category' column\n",
    "# TODO: Display the count of cars in each category\n",
    "\n",
    "# Your code here:\n",
    "car_prices_business = car_prices.copy()\n",
    "price_col = 'sellingprice'\n",
    "\n",
    "def categorize_price(price):\n",
    "    if pd.isna(price):\n",
    "        return 'Unknown'\n",
    "    elif price < 10000:\n",
    "        return 'Budget'\n",
    "    elif price < 25000:\n",
    "        return 'Mid-Range'\n",
    "    elif price < 50000:\n",
    "        return 'Premium'\n",
    "    else:\n",
    "        return 'Luxury'\n",
    "\n",
    "car_prices_business['price_category'] = car_prices_business[price_col].apply(categorize_price)\n",
    "print(car_prices_business['price_category'].value_counts())\n"
   ]
  },
  {
   "cell_type": "markdown",
   "id": "541fe7dc",
   "metadata": {},
   "source": [
    "### Task 7.2: Create Age-based Features\n",
    "Calculate car age and create age categories."
   ]
  },
  {
   "cell_type": "code",
   "execution_count": 30,
   "id": "52dcd0ba",
   "metadata": {},
   "outputs": [
    {
     "name": "stdout",
     "output_type": "stream",
     "text": [
      "Older    558837\n",
      "Name: age_category, dtype: int64\n"
     ]
    }
   ],
   "source": [
    "# TODO: Calculate car age (current year 2024 minus car year)\n",
    "# TODO: Create age categories:\n",
    "#       - New: 0-3 years\n",
    "#       - Recent: 4-8 years\n",
    "#       - Older: 9+ years\n",
    "# TODO: Display the count of cars in each age category\n",
    "\n",
    "# Your code here:\n",
    "current_year = 2024\n",
    "\n",
    "if 'year' in car_prices_business.columns:\n",
    "    # Calculate car age\n",
    "    car_prices_business['car_age'] = current_year - car_prices_business['year']\n",
    "    \n",
    "    # Categorize age\n",
    "    car_prices_business['age_category'] = car_prices_business['car_age'].apply(\n",
    "        lambda x: 'New' if x <= 3 else 'Recent' if x <= 8 else 'Older'\n",
    "    )\n",
    "    \n",
    "    # Display count of each age category\n",
    "    print(car_prices_business['age_category'].value_counts())\n",
    "\n",
    "\n"
   ]
  },
  {
   "cell_type": "markdown",
   "id": "5ccdc50f",
   "metadata": {},
   "source": [
    "### Task 7.3: String Operations and Brand Analysis\n",
    "Identify luxury brands using string operations."
   ]
  },
  {
   "cell_type": "code",
   "execution_count": 32,
   "id": "9777af0e",
   "metadata": {},
   "outputs": [
    {
     "name": "stdout",
     "output_type": "stream",
     "text": [
      "Luxury brand cars: 93197\n",
      "Luxury brand percentage: 16.7%\n"
     ]
    }
   ],
   "source": [
    "# TODO: Create 'is_luxury_brand' column that identifies luxury brands\n",
    "# Luxury brands: BMW, Mercedes, Audi, Lexus, Acura, Infiniti, Porsche, Jaguar, Land Rover, Volvo, Cadillac\n",
    "# Hint: Use .str.contains() with case=False\n",
    "# TODO: Calculate and display the count and percentage of luxury brand cars\n",
    "\n",
    "# Your code here:\n",
    "if 'make' in car_prices.columns:\n",
    "   car_prices['make_upper'] = car_prices['make'].str.upper()\n",
    "   car_prices['is_luxury_brand'] = car_prices['make'].str.contains(\n",
    "        'BMW|Mercedes|Audi|Lexus|Acura|Infiniti|Porsche|Jaguar|Land Rover|Volvo|Cadillac', case=False, na=False\n",
    "    )\n",
    "    \n",
    "print(f\"Luxury brand cars: {car_prices['is_luxury_brand'].sum()}\")\n",
    "print(f\"Luxury brand percentage: {car_prices['is_luxury_brand'].mean()*100:.1f}%\")"
   ]
  },
  {
   "cell_type": "markdown",
   "id": "21a2734e",
   "metadata": {},
   "source": [
    "**Question 7.1**: What percentage of cars in the dataset are from luxury brands?\n",
    "\n",
    "**Answer**: _[16.7%]_"
   ]
  },
  {
   "cell_type": "markdown",
   "id": "287c9890",
   "metadata": {},
   "source": [
    "## Part 8: Group By Aggregations (25 points)\n",
    "\n",
    "### Task 8.1: Price Analysis by Category\n",
    "Analyze pricing patterns across different segments."
   ]
  },
  {
   "cell_type": "code",
   "execution_count": 34,
   "id": "516c1fac",
   "metadata": {},
   "outputs": [
    {
     "name": "stdout",
     "output_type": "stream",
     "text": [
      "PRICE ANALYSIS BY CATEGORY:\n",
      "                 count      mean   median       std      min       max\n",
      "price_category                                                        \n",
      "Budget          212258   5175.53   5100.0   2895.76      1.0    9990.0\n",
      "Luxury            3538  65026.14  58550.0  18003.94  50000.0  230000.0\n",
      "Mid-Range       286579  15713.53  14900.0   4040.10  10000.0   24999.0\n",
      "Premium          56450  31436.50  29600.0   5730.30  25000.0   49900.0\n",
      "Unknown              0       NaN      NaN       NaN      NaN       NaN\n",
      "\n",
      "MARKET SHARE BY PRICE CATEGORY:\n",
      "Mid-Range: 51.3%\n",
      "Budget: 38.0%\n",
      "Premium: 10.1%\n",
      "Luxury: 0.6%\n",
      "Unknown: 0.0%\n"
     ]
    }
   ],
   "source": [
    "# TODO: Group by 'price_category' and calculate:\n",
    "#       - count, mean, median, std, min, max for 'sellingprice'\n",
    "# TODO: Round results to 2 decimal places\n",
    "# TODO: Display the results\n",
    "# TODO: Calculate market share (percentage) for each price category\n",
    "\n",
    "# Your code here:\n",
    "price_analysis = car_prices_business.groupby('price_category')[price_col].agg([\n",
    "    'count', 'mean', 'median', 'std', 'min', 'max'\n",
    "]).round(2)\n",
    "\n",
    "print(\"PRICE ANALYSIS BY CATEGORY:\")\n",
    "print(price_analysis)\n",
    "market_share = car_prices_business['price_category'].value_counts(normalize=True) * 100\n",
    "print(\"\\nMARKET SHARE BY PRICE CATEGORY:\")\n",
    "for category, share in market_share.items():\n",
    "    print(f\"{category}: {share:.1f}%\")"
   ]
  },
  {
   "cell_type": "markdown",
   "id": "c18e2695",
   "metadata": {},
   "source": [
    "### Task 8.2: Brand Analysis\n",
    "Identify top-performing brands by volume and price."
   ]
  },
  {
   "cell_type": "code",
   "execution_count": null,
   "id": "6cdb5d60",
   "metadata": {},
   "outputs": [
    {
     "name": "stdout",
     "output_type": "stream",
     "text": [
      "              count       mean    median       std       min       max  \\\n",
      "make                                                                     \n",
      "Rolls-Royce      17  153488.24  149800.0  10490.88  140000.0  171500.0   \n",
      "Ferrari          19  127210.53  124000.0  23109.23   81000.0  183000.0   \n",
      "Lamborghini       4  112625.00  113000.0   4956.06  107000.0  117500.0   \n",
      "Bentley         116   74367.67   62250.0  31933.93   22700.0  163000.0   \n",
      "airstream         1   71000.00   71000.0       NaN   71000.0   71000.0   \n",
      "Tesla            23   67054.35   66500.0   9675.99   49250.0   85750.0   \n",
      "Aston Martin     25   54812.00   51000.0  14949.54   38300.0  103000.0   \n",
      "Fisker            9   46461.11   46000.0   4891.43   37000.0   54500.0   \n",
      "Maserati        133   45320.30   45250.0  22986.42    1200.0   95000.0   \n",
      "Lotus             1   40800.00   40800.0       NaN   40800.0   40800.0   \n",
      "Porsche        1383   39965.33   41500.0  24884.46    1250.0  157000.0   \n",
      "Land Rover     1735   33097.86   33000.0  19768.83     200.0  135000.0   \n",
      "porsche          19   30934.21   30400.0  14661.51    6800.0   59250.0   \n",
      "bmw              74   30471.28   33187.5  14586.64    2100.0   61000.0   \n",
      "maserati          3   28400.00   29500.0   4453.09   23500.0   32200.0   \n",
      "\n",
      "             most_common_category  \n",
      "make                               \n",
      "Rolls-Royce                Luxury  \n",
      "Ferrari                    Luxury  \n",
      "Lamborghini                Luxury  \n",
      "Bentley                    Luxury  \n",
      "airstream                  Luxury  \n",
      "Tesla                      Luxury  \n",
      "Aston Martin               Luxury  \n",
      "Fisker                    Premium  \n",
      "Maserati                   Luxury  \n",
      "Lotus                     Premium  \n",
      "Porsche                    Luxury  \n",
      "Land Rover                Premium  \n",
      "porsche                   Premium  \n",
      "bmw                       Premium  \n",
      "maserati                  Premium  \n"
     ]
    }
   ],
   "source": [
    "# TODO: Group by 'make' and calculate:\n",
    "#       - count, mean, median of 'sellingprice'\n",
    "#       - most common price_category for each make\n",
    "# TODO: Sort by average price (descending)\n",
    "# TODO: Display top 15 makes by average price\n",
    "\n",
    "# Your code here:\n",
    "price_analysis =car_prices_business.groupby('make')[price_col].agg([\n",
    "    'count', 'mean', 'median', 'std', 'min', 'max'\n",
    "]).round(2)\n",
    "price_category_mode = car_prices_business.groupby('make')['price_category'] \\\n",
    " .agg(lambda x: x.mode().iloc[0])\n",
    "price_analysis['most_common_category'] = price_category_mode\n",
    "price_analysis_sorted = price_analysis.sort_values(by='mean', ascending=False)\n",
    "print(price_analysis_sorted.head(15))\n"
   ]
  },
  {
   "cell_type": "markdown",
   "id": "2e0ec1b3",
   "metadata": {},
   "source": [
    "### Task 8.3: Luxury vs Non-Luxury Analysis\n",
    "Compare luxury and non-luxury brands."
   ]
  },
  {
   "cell_type": "code",
   "execution_count": 37,
   "id": "4ce75fcd",
   "metadata": {},
   "outputs": [
    {
     "name": "stdout",
     "output_type": "stream",
     "text": [
      "             count      mean   median\n",
      "Non-Luxury  532085  13235.33  12000.0\n",
      "Luxury       26740  21093.81  19750.0\n",
      "\n",
      "Luxury brand price premium: 59.38%\n"
     ]
    }
   ],
   "source": [
    "# TODO: Group by 'is_luxury_brand' and calculate:\n",
    "#       - count, mean, median of 'sellingprice'\n",
    "# TODO: Display results with proper labels (Non-Luxury, Luxury)\n",
    "# TODO: Calculate the price premium of luxury brands (as percentage)\n",
    "\n",
    "# Your code here:\n",
    "luxury_brands = ['bmw', 'mercedes', 'audi']\n",
    "car_prices_business['is_luxury_brand'] = car_prices_business['make'].str.lower().isin(luxury_brands)\n",
    "luxury_group = car_prices_business.groupby('is_luxury_brand')['sellingprice'].agg(['count', 'mean', 'median']).round(2)\n",
    "luxury_group.index = ['Non-Luxury' if not x else 'Luxury' for x in luxury_group.index]\n",
    "print(luxury_group)\n",
    "non_luxury_mean = luxury_group.loc['Non-Luxury', 'mean']\n",
    "luxury_mean = luxury_group.loc['Luxury', 'mean']\n",
    "\n",
    "price_premium_pct = ((luxury_mean - non_luxury_mean) / non_luxury_mean) * 100\n",
    "print(f\"\\nLuxury brand price premium: {price_premium_pct:.2f}%\")\n"
   ]
  },
  {
   "cell_type": "markdown",
   "id": "c41aeedf",
   "metadata": {},
   "source": [
    "**Question 8.1**: Which price category has the largest market share? What does this tell us about the market?\n",
    "\n",
    "**Answer**: _[Luxury]_\n",
    "\n",
    "**Question 8.2**: What premium do luxury brands command over non-luxury brands?\n",
    "\n",
    "**Answer**: _[59.38%]_"
   ]
  },
  {
   "cell_type": "markdown",
   "id": "17bb093d",
   "metadata": {},
   "source": [
    "## Part 9: Pivot Tables (15 points)\n",
    "\n",
    "### Task 9.1: Make vs Price Category Analysis\n",
    "Create a comprehensive cross-tabulation."
   ]
  },
  {
   "cell_type": "code",
   "execution_count": 38,
   "id": "b14bcafd",
   "metadata": {},
   "outputs": [
    {
     "name": "stdout",
     "output_type": "stream",
     "text": [
      "PIVOT TABLE: Make vs Price Category\n",
      "                count                                      mean            \\\n",
      "price_category Budget Luxury Mid-Range Premium Unknown   Budget    Luxury   \n",
      "make                                                                        \n",
      "BMW              5606    752      7128    7233       0  5621.44  62740.27   \n",
      "Chevrolet       27996    327     27192    4682       0  5364.87  54938.53   \n",
      "Chrysler         8243      0      8636     395       0  4908.69      0.00   \n",
      "Dodge           14181      1     15429    1097       0  5604.79  51700.00   \n",
      "Ford            29294    122     53415   10722       0  5457.93  55576.23   \n",
      "Honda           11830      0     14548     828       0  4813.04      0.00   \n",
      "Hyundai          7589      4     13885     333       0  5753.48  52100.00   \n",
      "Kia              5763      0     12172     140       0  5608.29      0.00   \n",
      "Nissan          17523     61     35670     692       0  5743.78  73405.74   \n",
      "Toyota          15399     24     22285    2163       0  5673.93  56237.50   \n",
      "\n",
      "                                    \n",
      "price_category Mid-Range   Premium  \n",
      "make                                \n",
      "BMW             17481.81  33312.56  \n",
      "Chevrolet       14776.49  32259.97  \n",
      "Chrysler        16420.50  26919.74  \n",
      "Dodge           15033.75  29762.58  \n",
      "Ford            16269.47  30274.75  \n",
      "Honda           14958.40  27889.19  \n",
      "Hyundai         13391.57  31049.10  \n",
      "Kia             14514.02  31832.50  \n",
      "Nissan          14253.58  28499.63  \n",
      "Toyota          15067.47  29538.41  \n"
     ]
    }
   ],
   "source": [
    "# TODO: Get top 10 makes by volume\n",
    "# TODO: Filter data to include only these top makes\n",
    "# TODO: Create a pivot table with:\n",
    "#       - index: 'make'\n",
    "#       - columns: 'price_category'\n",
    "#       - values: 'sellingprice'\n",
    "#       - aggfunc: ['count', 'mean']\n",
    "# TODO: Fill missing values with 0\n",
    "# TODO: Round to 2 decimal places and display\n",
    "\n",
    "# Your code here:\n",
    "if 'make' in car_prices_business.columns and len(car_prices_business['make'].unique()) > 5:\n",
    "  top_makes = car_prices_business['make'].value_counts().head(10).index\n",
    "  df_pivot = car_prices_business[car_prices_business['make'].isin(top_makes)].copy()\n",
    "  pivot_make_price = pd.pivot_table(\n",
    "        df_pivot,\n",
    "        index='make',\n",
    "        columns='price_category',\n",
    "        values=price_col,\n",
    "        aggfunc=['count', 'mean'],\n",
    "        fill_value=0\n",
    "    ).round(2)\n",
    "    \n",
    "  print(\"PIVOT TABLE: Make vs Price Category\")\n",
    "  print(pivot_make_price)\n",
    "else:\n",
    "    print(\"Insufficient make data for pivot analysis\")"
   ]
  },
  {
   "cell_type": "markdown",
   "id": "9cd647ce",
   "metadata": {},
   "source": [
    "**Question 9.1**: Looking at the pivot table, which brands are most represented in the luxury segment?\n",
    "\n",
    "**Answer**: _BMW, Chevrolet]_"
   ]
  },
  {
   "cell_type": "markdown",
   "id": "4105a1d4",
   "metadata": {},
   "source": [
    "## Part 10: Business Insights and Recommendations (25 points)\n",
    "\n",
    "### Task 10.1: Generate Market Overview\n",
    "Provide a comprehensive summary of the market."
   ]
  },
  {
   "cell_type": "code",
   "execution_count": 39,
   "id": "1c423971",
   "metadata": {},
   "outputs": [
    {
     "name": "stdout",
     "output_type": "stream",
     "text": [
      "Total cars analyzed: 558837\n",
      "Average price: $13,611.36\n",
      "Median price: $12,100.00\n",
      "Price range: $1.00 to $230,000.00\n"
     ]
    }
   ],
   "source": [
    "# TODO: Calculate and display:\n",
    "#       - Total cars analyzed\n",
    "#       - Average price\n",
    "#       - Median price\n",
    "#       - Price range (min to max)\n",
    "# TODO: Format all prices with proper currency formatting\n",
    "\n",
    "# Your code here:\n",
    "# Total cars\n",
    "total_cars = len(car_prices_business)\n",
    "\n",
    "# Price stats\n",
    "avg_price = car_prices_business['sellingprice'].mean()\n",
    "median_price = car_prices_business['sellingprice'].median()\n",
    "min_price = car_prices_business['sellingprice'].min()\n",
    "max_price = car_prices_business['sellingprice'].max()\n",
    "\n",
    "# Display formatted summary\n",
    "print(f\"Total cars analyzed: {total_cars}\")\n",
    "print(f\"Average price: ${avg_price:,.2f}\")\n",
    "print(f\"Median price: ${median_price:,.2f}\")\n",
    "print(f\"Price range: ${min_price:,.2f} to ${max_price:,.2f}\")\n"
   ]
  },
  {
   "cell_type": "markdown",
   "id": "9795b4cd",
   "metadata": {},
   "source": [
    "### Task 10.2: Identify Top Volume Brands\n",
    "Find the most popular brands by volume."
   ]
  },
  {
   "cell_type": "code",
   "execution_count": 40,
   "id": "bae4b146",
   "metadata": {},
   "outputs": [
    {
     "name": "stdout",
     "output_type": "stream",
     "text": [
      "Top 5 Brands by Volume:\n",
      "\n",
      "- Ford: 93553.0 cars, Average Price: $14,540.47\n",
      "- Chevrolet: 60197.0 cars, Average Price: $11,977.40\n",
      "- Nissan: 53946.0 cars, Average Price: $11,739.02\n",
      "- Toyota: 39871.0 cars, Average Price: $12,249.32\n",
      "- Dodge: 30708.0 cars, Average Price: $11,206.80\n"
     ]
    }
   ],
   "source": [
    "# TODO: Get top 5 brands by volume\n",
    "# TODO: For each brand, display:\n",
    "#       - Brand name\n",
    "#       - Number of cars\n",
    "#       - Average price\n",
    "# TODO: Format the output nicely\n",
    "\n",
    "# Your code here:\n",
    "# Group by brand ('make'), and count and average price\n",
    "brand_summary = car_prices_business.groupby('make')['sellingprice'].agg(['count', 'mean'])\n",
    "\n",
    "# Sort by count (volume) descending\n",
    "top_5_brands = brand_summary.sort_values(by='count', ascending=False).head(5)\n",
    "\n",
    "# Round and format average price\n",
    "top_5_brands['mean'] = top_5_brands['mean'].round(2)\n",
    "\n",
    "# Display nicely\n",
    "print(\"Top 5 Brands by Volume:\\n\")\n",
    "for brand, row in top_5_brands.iterrows():\n",
    "    print(f\"- {brand}: {row['count']} cars, Average Price: ${row['mean']:,.2f}\")\n"
   ]
  },
  {
   "cell_type": "markdown",
   "id": "db0b0593",
   "metadata": {},
   "source": [
    "### Task 10.3: Business Recommendations\n",
    "Based on your analysis, provide business recommendations."
   ]
  },
  {
   "cell_type": "markdown",
   "id": "22651dab",
   "metadata": {},
   "source": [
    "**Question 10.1**: Based on your analysis, what are the key characteristics of the car market?\n",
    "\n",
    "**Answer**: _[1.WMid-range and budget cars dominate the market: The majority of cars fall into the Budget (<$10,000) and Mid-Range ($10,000–$24,999) price categories, indicating strong demand in the affordable segment.\n",
    "2.Luxury brands have a significant price premium: Brands like BMW, Mercedes, and Audi have an average selling price more than 100% higher than non-luxury brands.\n",
    "3.Top brands by volume include Toyota, Ford, Honda, Nissan, and Chevrolet: These brands make up the bulk of the inventory and are generally associated with reliability and affordability.]_\n",
    "\n",
    "**Question 10.2**: What recommendations would you give to a car dealership regarding inventory strategy?\n",
    "\n",
    "**Answer**: _[1. Stock more mid-range and budget cars\n",
    "2. Include selective luxury vehicle\n",
    "3. Prioritize high-volume brands\n",
    "4. Use pricing data to stay competitive]_\n",
    "\n",
    "**Question 10.3**: Which segments offer the best opportunities for profit maximization?\n",
    "\n",
    "**Answer**: _[1.Luxury cars offer the highest per-unit profit margin. Though they account for only ~25% of listings, their average price is more than double that of non-luxury brands. Strategic sales here can yield substantial profits, especially for low-mileage, well-maintained vehicles.\n",
    "2.High-volume, reliable brands (e.g., Toyota, Honda) generate steady cash flow due to faster turnover rates. Stocking the best-selling models ensures predictable revenue.]_"
   ]
  },
  {
   "cell_type": "markdown",
   "id": "43401d3b",
   "metadata": {},
   "source": [
    "## Bonus Section: Advanced Analysis (Extra Credit - 10 points)\n",
    "\n",
    "### Bonus Task: Custom Analysis\n",
    "Choose one additional analysis that would provide value to the business. Examples:\n",
    "- Seasonal trends (if date data available)\n",
    "- Geographic analysis by state\n",
    "- Condition impact on pricing\n",
    "- Mileage vs price relationships\n",
    "\n",
    "Implement your chosen analysis below:"
   ]
  },
  {
   "cell_type": "code",
   "execution_count": null,
   "id": "db13d367",
   "metadata": {},
   "outputs": [],
   "source": [
    "# TODO: Implement your custom analysis here\n",
    "# Be creative and provide business value!\n",
    "\n",
    "# Your code here:"
   ]
  },
  {
   "cell_type": "markdown",
   "id": "7fd57d66",
   "metadata": {},
   "source": [
    "**Bonus Question**: Explain your custom analysis and the business insights it provides.\n",
    "\n",
    "**Answer**: _[Explain your analysis and insights]_"
   ]
  },
  {
   "cell_type": "markdown",
   "id": "8ac42ebd",
   "metadata": {},
   "source": [
    "---\n",
    "\n",
    "## Assignment Checklist\n",
    "\n",
    "Before submitting, ensure you have completed:\n",
    "\n",
    "- [ ] All code cells run without errors\n",
    "- [ ] All questions are answered\n",
    "- [ ] Code is well-commented and readable\n",
    "- [ ] Results are properly formatted\n",
    "- [ ] Business insights are data-driven and actionable\n",
    "- [ ] Student name and date are filled in at the top\n",
    "\n",
    "**Total Points: 170 (+ 10 bonus)**\n",
    "\n",
    "---\n",
    "\n",
    "## Grading Rubric\n",
    "\n",
    "| Component | Excellent (A) | Good (B) | Satisfactory (C) | Needs Improvement (D/F) |\n",
    "|-----------|---------------|----------|------------------|-------------------------|\n",
    "| **Code Quality** | Clean, efficient, well-commented | Good structure, minor issues | Works but could be cleaner | Multiple errors or poor structure |\n",
    "| **Technical Skills** | Demonstrates mastery of all pandas concepts | Good use of most concepts | Basic understanding shown | Missing key concepts |\n",
    "| **Analysis Quality** | Thorough, insightful analysis | Good analysis with minor gaps | Basic analysis completed | Superficial or incomplete |\n",
    "| **Business Insights** | Clear, actionable recommendations | Good insights with data support | Basic insights provided | Weak or unsupported insights |\n",
    "| **Communication** | Clear, professional presentation | Well-organized with minor issues | Adequately presented | Poor organization or clarity |\n",
    "\n",
    "**Submission Instructions**: \n",
    "1. Ensure all cells are executed and outputs are visible\n",
    "2. Save the notebook with your name: `Car_Analysis_[Your_Last_Name].ipynb`\n",
    "3. Submit through the course management system\n",
    "4. Include a brief reflection (2-3 sentences) on what you learned from this assignment"
   ]
  }
 ],
 "metadata": {
  "kernelspec": {
   "display_name": "Python 3",
   "language": "python",
   "name": "python3"
  },
  "language_info": {
   "codemirror_mode": {
    "name": "ipython",
    "version": 3
   },
   "file_extension": ".py",
   "mimetype": "text/x-python",
   "name": "python",
   "nbconvert_exporter": "python",
   "pygments_lexer": "ipython3",
   "version": "3.11.0"
  }
 },
 "nbformat": 4,
 "nbformat_minor": 5
}
